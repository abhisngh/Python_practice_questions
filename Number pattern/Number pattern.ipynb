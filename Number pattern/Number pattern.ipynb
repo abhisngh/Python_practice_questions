{
 "cells": [
  {
   "cell_type": "code",
   "execution_count": 1,
   "metadata": {},
   "outputs": [
    {
     "name": "stdout",
     "output_type": "stream",
     "text": [
      "5\n",
      "1        1\n",
      "12      21\n",
      "123    321\n",
      "1234  4321\n",
      "1234554321\n"
     ]
    }
   ],
   "source": [
    "i=int(input())\n",
    "j=1\n",
    "h=i\n",
    "y=0\n",
    "for p in range(2,i+1):\n",
    "  y+=1\n",
    "while j<=i:\n",
    " \n",
    "  for a in range(1,j+1):\n",
    "    print(a,end=\"\")\n",
    "  for c in range(y+i,1,-1):\n",
    "    print(\" \",end=\"\")\n",
    "  for b in range(j,0,-1):\n",
    "    print(b,end=\"\")\n",
    "  print()\n",
    "  j+=1\n",
    "  y-=2"
   ]
  }
 ],
 "metadata": {
  "kernelspec": {
   "display_name": "Python 3",
   "language": "python",
   "name": "python3"
  },
  "language_info": {
   "codemirror_mode": {
    "name": "ipython",
    "version": 3
   },
   "file_extension": ".py",
   "mimetype": "text/x-python",
   "name": "python",
   "nbconvert_exporter": "python",
   "pygments_lexer": "ipython3",
   "version": "3.6.5"
  }
 },
 "nbformat": 4,
 "nbformat_minor": 2
}
