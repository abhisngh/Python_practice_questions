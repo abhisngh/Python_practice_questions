{
 "cells": [
  {
   "cell_type": "code",
   "execution_count": 1,
   "metadata": {},
   "outputs": [
    {
     "name": "stdout",
     "output_type": "stream",
     "text": [
      "8\n",
      "1 2 3 4 5 6 7 8 \n",
      "9 10 11 12 13 14 15 \n",
      "16 17 18 19 20 21 \n",
      "22 23 24 25 26 \n",
      "27 28 29 30 \n",
      "31 32 33 \n",
      "34 35 \n",
      "36 \n"
     ]
    }
   ],
   "source": [
    "i=int(input())\n",
    "val=1\n",
    "while i>0:\n",
    "  c=i\n",
    "  d=i\n",
    "  if c%2!=0:\n",
    "    while c>0:\n",
    "      print(val,end=\" \")\n",
    "      val+=1\n",
    "      c-=1\n",
    "  else:\n",
    "    while d>0:\n",
    "      a=[]\n",
    "      a.append(val)\n",
    "      a.reverse()\n",
    "      for elem in a:\n",
    "        print(elem,end=\" \")\n",
    "      d-=1\n",
    "      val+=1\n",
    "  print()\n",
    "  i-=1"
   ]
  },
  {
   "cell_type": "code",
   "execution_count": null,
   "metadata": {},
   "outputs": [],
   "source": []
  }
 ],
 "metadata": {
  "kernelspec": {
   "display_name": "Python 3",
   "language": "python",
   "name": "python3"
  },
  "language_info": {
   "codemirror_mode": {
    "name": "ipython",
    "version": 3
   },
   "file_extension": ".py",
   "mimetype": "text/x-python",
   "name": "python",
   "nbconvert_exporter": "python",
   "pygments_lexer": "ipython3",
   "version": "3.6.5"
  }
 },
 "nbformat": 4,
 "nbformat_minor": 2
}
