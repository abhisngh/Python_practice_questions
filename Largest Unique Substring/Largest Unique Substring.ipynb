{
 "cells": [
  {
   "cell_type": "code",
   "execution_count": 3,
   "metadata": {},
   "outputs": [
    {
     "name": "stdout",
     "output_type": "stream",
     "text": [
      "abcdabceb\n",
      "Output:\n",
      "dabce\n"
     ]
    }
   ],
   "source": [
    "def longest_unique_substr(S):\n",
    "  # This should be replaced by an array (size = alphabet size).\n",
    "  last_occurrence = {} \n",
    "  longest_len_so_far = 0\n",
    "  longest_pos_so_far = 0\n",
    "  curr_starting_pos = 0\n",
    "  curr_length = 0\n",
    "\n",
    "  for k, c in enumerate(S):\n",
    "    l = last_occurrence.get(c, -1)\n",
    "    # If no repetition within window, no problems.\n",
    "    if l < curr_starting_pos: \n",
    "        curr_length += 1\n",
    "    else:\n",
    "        # Check if it is the longest so far\n",
    "        if curr_length > longest_len_so_far: \n",
    "            longest_pos_so_far = curr_starting_pos\n",
    "            longest_len_so_far = curr_length\n",
    "        # Cut the prefix that has repetition\n",
    "        curr_length -= l - curr_starting_pos\n",
    "        curr_starting_pos = l + 1\n",
    "    # In any case, update last_occurrence\n",
    "    last_occurrence[c] = k\n",
    "\n",
    "  # Maybe the longest substring is a suffix\n",
    "  if curr_length > longest_len_so_far:\n",
    "    longest_pos_so_far = curr_starting_pos\n",
    "    longest_len_so_far = curr_length\n",
    "\n",
    "  return S[longest_pos_so_far:longest_pos_so_far + longest_len_so_far]\n",
    "s=input()\n",
    "p=longest_unique_substr(s)\n",
    "print(\"Output:\")\n",
    "print(p)"
   ]
  },
  {
   "cell_type": "code",
   "execution_count": null,
   "metadata": {},
   "outputs": [],
   "source": []
  }
 ],
 "metadata": {
  "kernelspec": {
   "display_name": "Python 3",
   "language": "python",
   "name": "python3"
  },
  "language_info": {
   "codemirror_mode": {
    "name": "ipython",
    "version": 3
   },
   "file_extension": ".py",
   "mimetype": "text/x-python",
   "name": "python",
   "nbconvert_exporter": "python",
   "pygments_lexer": "ipython3",
   "version": "3.6.5"
  }
 },
 "nbformat": 4,
 "nbformat_minor": 2
}
