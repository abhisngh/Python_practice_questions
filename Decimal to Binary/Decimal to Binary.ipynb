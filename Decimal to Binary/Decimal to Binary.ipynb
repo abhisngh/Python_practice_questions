{
 "cells": [
  {
   "cell_type": "code",
   "execution_count": 2,
   "metadata": {},
   "outputs": [
    {
     "name": "stdout",
     "output_type": "stream",
     "text": [
      "12\n",
      "1100"
     ]
    }
   ],
   "source": [
    "i=int(input())\n",
    "a=[]\n",
    "j=0\n",
    "while i>0:\n",
    "  if i%2==0:\n",
    "    a.append(0)\n",
    "  else:\n",
    "    a.append(1)\n",
    "  i=i//2\n",
    "a.reverse()\n",
    "for elem in a:\n",
    "  print(elem,end=\"\")"
   ]
  },
  {
   "cell_type": "code",
   "execution_count": null,
   "metadata": {},
   "outputs": [],
   "source": []
  }
 ],
 "metadata": {
  "kernelspec": {
   "display_name": "Python 3",
   "language": "python",
   "name": "python3"
  },
  "language_info": {
   "codemirror_mode": {
    "name": "ipython",
    "version": 3
   },
   "file_extension": ".py",
   "mimetype": "text/x-python",
   "name": "python",
   "nbconvert_exporter": "python",
   "pygments_lexer": "ipython3",
   "version": "3.6.5"
  }
 },
 "nbformat": 4,
 "nbformat_minor": 2
}
