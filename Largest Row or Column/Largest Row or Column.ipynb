{
 "cells": [
  {
   "cell_type": "code",
   "execution_count": 1,
   "metadata": {},
   "outputs": [
    {
     "name": "stdout",
     "output_type": "stream",
     "text": [
      "2 2\n",
      "1 1 1 1\n",
      "row 0 2\n"
     ]
    }
   ],
   "source": [
    "str=input().strip().split(\" \")\n",
    "n=int(str[0])\n",
    "m=int(str[1])\n",
    "l1=[int(i) for i in input().strip().split(\" \")]\n",
    "sum1=0\n",
    "row=0\n",
    "a=0\n",
    "b=0\n",
    "sum2=0\n",
    "column=0\n",
    "l2=[[l1[i*m+j]for j in range(m)]for i in range(n)]\n",
    "for i in range(n):\n",
    "  sum1=0\n",
    "  for j in range(m):\n",
    "   sum1+=l2[i][j]\n",
    "  if sum1>a:\n",
    "    a=sum1\n",
    "    row=i\n",
    "for j in range(m):\n",
    "  sum2=0\n",
    "  for i in range(n):\n",
    "    sum2+=l2[i][j]\n",
    "  if sum2>b:\n",
    "    b=sum2\n",
    "    column=j\n",
    "if a>b:\n",
    "  print(\"row\",end=\" \")\n",
    "  print(row,end=\" \")\n",
    "  print(a)\n",
    "elif a==b:\n",
    "  print(\"row\",end=\" \")\n",
    "  print(row,end=\" \")\n",
    "  print(a)\n",
    "else:\n",
    "  print(\"column\",end=\" \")\n",
    "  print(column,end=\" \")\n",
    "  print(b)\n",
    "print(\"Output:\")"
   ]
  },
  {
   "cell_type": "code",
   "execution_count": null,
   "metadata": {},
   "outputs": [],
   "source": []
  }
 ],
 "metadata": {
  "kernelspec": {
   "display_name": "Python 3",
   "language": "python",
   "name": "python3"
  },
  "language_info": {
   "codemirror_mode": {
    "name": "ipython",
    "version": 3
   },
   "file_extension": ".py",
   "mimetype": "text/x-python",
   "name": "python",
   "nbconvert_exporter": "python",
   "pygments_lexer": "ipython3",
   "version": "3.6.5"
  }
 },
 "nbformat": 4,
 "nbformat_minor": 2
}
