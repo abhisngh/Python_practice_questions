{
 "cells": [
  {
   "cell_type": "code",
   "execution_count": 3,
   "metadata": {},
   "outputs": [
    {
     "name": "stdout",
     "output_type": "stream",
     "text": [
      " 4 4 1 2 3 4 5 6 7 8 9 10 11 12 13 14 15 16\n",
      "Output:\n",
      "1 2 3 4 8 12 16 15 14 13 9 5 6 7 11 10 "
     ]
    }
   ],
   "source": [
    "def spiralPrint(m, n, a) :\n",
    "    k = 0\n",
    "    l = 0\n",
    " \n",
    "    \n",
    "    while (k < m and l < n) :\n",
    "         \n",
    "        # Print the first row from\n",
    "        # the remaining rows \n",
    "        for i in range(l, n) :\n",
    "            print(a[k][i], end = \" \")\n",
    "             \n",
    "        k += 1\n",
    " \n",
    "        # Print the last column from\n",
    "        # the remaining columns \n",
    "        for i in range(k, m) :\n",
    "            print(a[i][n - 1], end = \" \")\n",
    "             \n",
    "        n -= 1\n",
    " \n",
    "        # Print the last row from\n",
    "        # the remaining rows \n",
    "        if ( k < m) :\n",
    "             \n",
    "            for i in range(n - 1, (l - 1), -1) :\n",
    "                print(a[m - 1][i], end = \" \")\n",
    "             \n",
    "            m -= 1\n",
    "         \n",
    "        # Print the first column from\n",
    "        # the remaining columns \n",
    "        if (l < n) :\n",
    "            for i in range(m - 1, k - 1, -1) :\n",
    "                print(a[i][l], end = \" \")\n",
    "             \n",
    "            l += 1\n",
    "l2=[int(x) for x in input().strip().split(\" \")]\n",
    "n=l2[0]\n",
    "m=l2[1]\n",
    "l1=l2[2:len(l2)]\n",
    "out=[[l1[i*m+j]for j in range(m)]for i in range(n)]\n",
    "print(\"Output:\")\n",
    "spiralPrint(n,m,out)"
   ]
  },
  {
   "cell_type": "code",
   "execution_count": null,
   "metadata": {},
   "outputs": [],
   "source": []
  }
 ],
 "metadata": {
  "kernelspec": {
   "display_name": "Python 3",
   "language": "python",
   "name": "python3"
  },
  "language_info": {
   "codemirror_mode": {
    "name": "ipython",
    "version": 3
   },
   "file_extension": ".py",
   "mimetype": "text/x-python",
   "name": "python",
   "nbconvert_exporter": "python",
   "pygments_lexer": "ipython3",
   "version": "3.6.5"
  }
 },
 "nbformat": 4,
 "nbformat_minor": 2
}
