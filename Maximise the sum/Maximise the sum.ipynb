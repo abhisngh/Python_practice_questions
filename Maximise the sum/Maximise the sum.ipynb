{
 "cells": [
  {
   "cell_type": "code",
   "execution_count": 2,
   "metadata": {},
   "outputs": [
    {
     "name": "stdout",
     "output_type": "stream",
     "text": [
      "6\n",
      "1 5 10 15 20 25\n",
      "5\n",
      "2 4 5 9 15\n",
      "Output:\n",
      "81\n"
     ]
    }
   ],
   "source": [
    "n1=int(input())\n",
    "l1=[int(x) for x in input().strip().split(\" \")]\n",
    "n2=int(input())\n",
    "l2=[int(x) for x in input().strip().split(\" \")]\n",
    "def maxPathSum(ar1,ar2 , m , n):\n",
    "     \n",
    "    # initialize indexes for ar1[] and ar2[]\n",
    "    i, j = 0, 0\n",
    "     \n",
    "    # Initialize result and current sum through ar1[] and ar2[]\n",
    "    result, sum1, sum2= 0, 0, 0\n",
    "     \n",
    "    # Below 3 loops are similar to merge in merge sort\n",
    "    while (i < m and j < n):\n",
    "       \n",
    "        # Add elements of ar1[] to sum1\n",
    "        if ar1[i] < ar2[j]:\n",
    "            sum1 += ar1[i]\n",
    "            i+=1\n",
    "         \n",
    "        # Add elements of ar2[] to sum1    \n",
    "        elif ar1[i] > ar2[j]:\n",
    "            sum2 += ar2[j]\n",
    "            j+=1\n",
    "         \n",
    "        else:   # we reached a common point\n",
    "         \n",
    "            # Take the maximum of two sums and add to result\n",
    "            result+= max(sum1,sum2)\n",
    "             \n",
    "            # Update sum1 and sum2 for elements after this intersection point\n",
    "            sum1, sum2 = 0, 0\n",
    "             \n",
    "            # Keep updating result while there are more common elements\n",
    "            while (i < m and j < n and ar1[i]==ar2[j]):\n",
    "                result += ar1[i]\n",
    "                i+=1\n",
    "                j+=1\n",
    "     \n",
    "    # Add remaining elements of ar1[]\n",
    "    while i < m:\n",
    "        sum1 += ar1[i]\n",
    "        i+=1\n",
    "    # Add remaining elements of b[]\n",
    "    while j < n:\n",
    "        sum2 += ar2[j]\n",
    "        j+=1\n",
    "     \n",
    "    # Add maximum of two sums of remaining elements\n",
    "    result += max(sum1,sum2)\n",
    "     \n",
    "    return result\n",
    "print(\"Output:\")\n",
    "print(maxPathSum(l1,l2,n1,n2))\n"
   ]
  },
  {
   "cell_type": "code",
   "execution_count": null,
   "metadata": {},
   "outputs": [],
   "source": []
  }
 ],
 "metadata": {
  "kernelspec": {
   "display_name": "Python 3",
   "language": "python",
   "name": "python3"
  },
  "language_info": {
   "codemirror_mode": {
    "name": "ipython",
    "version": 3
   },
   "file_extension": ".py",
   "mimetype": "text/x-python",
   "name": "python",
   "nbconvert_exporter": "python",
   "pygments_lexer": "ipython3",
   "version": "3.6.5"
  }
 },
 "nbformat": 4,
 "nbformat_minor": 2
}
